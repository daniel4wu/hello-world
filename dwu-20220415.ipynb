{
 "cells": [
  {
   "cell_type": "code",
   "execution_count": 1,
   "id": "9a38df3e",
   "metadata": {
    "_cell_guid": "d08df64e-dea7-407b-9543-5cba5ac3d38d",
    "_uuid": "c8ee5758-0044-41fc-93b0-e1cb28864d8a",
    "collapsed": false,
    "execution": {
     "iopub.execute_input": "2022-04-13T09:32:32.818745Z",
     "iopub.status.busy": "2022-04-13T09:32:32.817170Z",
     "iopub.status.idle": "2022-04-13T09:32:32.823638Z",
     "shell.execute_reply": "2022-04-13T09:32:32.822934Z",
     "shell.execute_reply.started": "2022-04-13T09:31:09.962589Z"
    },
    "jupyter": {
     "outputs_hidden": false
    },
    "papermill": {
     "duration": 0.023162,
     "end_time": "2022-04-13T09:32:32.823809",
     "exception": false,
     "start_time": "2022-04-13T09:32:32.800647",
     "status": "completed"
    },
    "tags": []
   },
   "outputs": [
    {
     "name": "stdout",
     "output_type": "stream",
     "text": [
      "Hello world 0\n",
      "Hello world 1\n",
      "Hello world 2\n",
      "Hello world 3\n",
      "Hello world 4\n",
      "Hello world 5\n",
      "Hello world 6\n",
      "Hello world 7\n",
      "Hello world 8\n",
      "Hello world 9\n",
      "7\n"
     ]
    }
   ],
   "source": [
    "import random as random\n",
    "\n",
    "for n in range(10):\n",
    "    print(\"Hello world {0}\".format(n))\n",
    "\n",
    "print(random.randint(1,10))"
   ]
  }
 ],
 "metadata": {
  "kernelspec": {
   "display_name": "Python 3",
   "language": "python",
   "name": "python3"
  },
  "language_info": {
   "codemirror_mode": {
    "name": "ipython",
    "version": 3
   },
   "file_extension": ".py",
   "mimetype": "text/x-python",
   "name": "python",
   "nbconvert_exporter": "python",
   "pygments_lexer": "ipython3",
   "version": "3.7.12"
  },
  "papermill": {
   "default_parameters": {},
   "duration": 10.877633,
   "end_time": "2022-04-13T09:32:33.437839",
   "environment_variables": {},
   "exception": null,
   "input_path": "__notebook__.ipynb",
   "output_path": "__notebook__.ipynb",
   "parameters": {},
   "start_time": "2022-04-13T09:32:22.560206",
   "version": "2.3.3"
  }
 },
 "nbformat": 4,
 "nbformat_minor": 5
}
